{
 "cells": [
  {
   "cell_type": "markdown",
   "id": "ac7d3566-45b6-49b1-8920-c87e547d7b1f",
   "metadata": {},
   "source": [
    "Q.1) Declare two variables, `x` and `y`, and assign them integer values.\n",
    "Swap the values of these variables without using any temporary\n",
    "variable.\n",
    "\n"
   ]
  },
  {
   "cell_type": "code",
   "execution_count": 1,
   "id": "a09891d7-f714-46ad-820f-a5ad301aab17",
   "metadata": {},
   "outputs": [],
   "source": [
    "x = 2\n",
    "y = 4"
   ]
  },
  {
   "cell_type": "code",
   "execution_count": 2,
   "id": "83772592-66cf-4bb8-9674-abed02817051",
   "metadata": {},
   "outputs": [],
   "source": [
    "x = x + y\n",
    "y = x - y\n",
    "x = x - y"
   ]
  },
  {
   "cell_type": "code",
   "execution_count": 3,
   "id": "69bd30b7-d4c2-4eee-941f-48aec3114fc8",
   "metadata": {},
   "outputs": [
    {
     "data": {
      "text/plain": [
       "4"
      ]
     },
     "execution_count": 3,
     "metadata": {},
     "output_type": "execute_result"
    }
   ],
   "source": [
    "x"
   ]
  },
  {
   "cell_type": "code",
   "execution_count": 4,
   "id": "6790634b-efcb-47d7-b09b-bd49f9c91a6c",
   "metadata": {},
   "outputs": [
    {
     "data": {
      "text/plain": [
       "2"
      ]
     },
     "execution_count": 4,
     "metadata": {},
     "output_type": "execute_result"
    }
   ],
   "source": [
    "y"
   ]
  },
  {
   "cell_type": "code",
   "execution_count": 13,
   "id": "ebedcb60-5fc6-49c9-a4f9-6fd9a44ac9e2",
   "metadata": {},
   "outputs": [],
   "source": [
    "#The values of the variables x and y has been swapped without using and temporary variable by running the above code."
   ]
  },
  {
   "cell_type": "code",
   "execution_count": null,
   "id": "b413ac47-ee34-452e-9e42-07a3f2698f69",
   "metadata": {},
   "outputs": [],
   "source": []
  },
  {
   "cell_type": "markdown",
   "id": "d89aebd2-8774-49bd-a1fe-2fd59ed040e2",
   "metadata": {},
   "source": [
    "Q.2)Create a program that calculates the area of a rectangle. Take the\n",
    "length and width as inputs from the user and store them in variables.\n",
    "Calculate and display the area.\n"
   ]
  },
  {
   "cell_type": "code",
   "execution_count": 27,
   "id": "333db450-e568-42ab-a99a-35ecdc63ad0c",
   "metadata": {},
   "outputs": [
    {
     "name": "stdin",
     "output_type": "stream",
     "text": [
      "Enter Length 25\n",
      "Enter Width 5\n"
     ]
    },
    {
     "name": "stdout",
     "output_type": "stream",
     "text": [
      "Area of the rectange is 125.0\n"
     ]
    }
   ],
   "source": [
    "Length = float(input(\"Enter Length\"))\n",
    "Width = float(input(\"Enter Width\"))\n",
    "Area_of_the_rectangle = Length*Width\n",
    "print(\"Area of the rectange is\", Area_of_the_rectangle)"
   ]
  },
  {
   "cell_type": "code",
   "execution_count": 31,
   "id": "22add5a2-a76c-4759-82b3-69521d0a7fce",
   "metadata": {},
   "outputs": [],
   "source": [
    "#Please run the above code and put the values of Length and Width and run the code Area_of_the_rectangle to find the area of rectangle.\n"
   ]
  },
  {
   "cell_type": "code",
   "execution_count": null,
   "id": "47ca2826-e0fb-4d87-b2d5-13dbcf6258e8",
   "metadata": {},
   "outputs": [],
   "source": []
  },
  {
   "cell_type": "markdown",
   "id": "3ad37d96-d991-4624-9858-ac6265655c28",
   "metadata": {},
   "source": [
    "Q.3)Write a Python program that converts temperature from Celsius to\n",
    "Fahrenheit. Take the temperature in Celsius as input, store it in a\n",
    "variable, convert it to Fahrenheit, and display the result.\n"
   ]
  },
  {
   "cell_type": "code",
   "execution_count": 30,
   "id": "73bc0926-691e-45cc-9641-31bd44678ada",
   "metadata": {},
   "outputs": [
    {
     "name": "stdin",
     "output_type": "stream",
     "text": [
      "Enter Temperature in Celcius 30\n"
     ]
    },
    {
     "name": "stdout",
     "output_type": "stream",
     "text": [
      "The temperature in Fahrenheit is 86.0\n"
     ]
    }
   ],
   "source": [
    "Temp_in_Celsius = int(input(\"Enter Temperature in Celcius\"))\n",
    "Temp_in_Fahrenheit = ((Temp_in_Celsius * 9/5) + 32)\n",
    "print(\"The temperature in Fahrenheit is\", Temp_in_Fahrenheit)"
   ]
  },
  {
   "cell_type": "code",
   "execution_count": 32,
   "id": "d6dcf87c-b5e5-4d15-a516-489d09850496",
   "metadata": {},
   "outputs": [],
   "source": [
    "#Please run the above code and put the temperature in Celsius to convert the temperature into Fahrenheit."
   ]
  },
  {
   "cell_type": "code",
   "execution_count": null,
   "id": "f5dd4c5c-0c3e-4764-af5c-7e24f56de873",
   "metadata": {},
   "outputs": [],
   "source": []
  },
  {
   "cell_type": "markdown",
   "id": "a640ae9f-f087-487c-b28c-085efacc0e14",
   "metadata": {},
   "source": [
    "String Based Questions"
   ]
  },
  {
   "cell_type": "code",
   "execution_count": null,
   "id": "b248fca5-ecb9-49e1-8861-6a24c1a0647d",
   "metadata": {},
   "outputs": [],
   "source": [
    "Q.1)Write a Python program that takes a string as input and prints the\n",
    "length of the string.\n"
   ]
  },
  {
   "cell_type": "code",
   "execution_count": 14,
   "id": "af64aa74-2b8a-4cbf-aea7-7c234cd5499b",
   "metadata": {},
   "outputs": [
    {
     "name": "stdin",
     "output_type": "stream",
     "text": [
      " Ashish\n"
     ]
    },
    {
     "name": "stdout",
     "output_type": "stream",
     "text": [
      "Length of the string is 6\n"
     ]
    }
   ],
   "source": [
    "s1 = input()\n",
    "print(\"Length of the string is\", len(s1))"
   ]
  },
  {
   "cell_type": "code",
   "execution_count": 8,
   "id": "449a42c0-f2c0-4012-8196-523f469fb3b1",
   "metadata": {},
   "outputs": [],
   "source": [
    "#Please run the above code and put any string to know about the length of the string."
   ]
  },
  {
   "cell_type": "code",
   "execution_count": null,
   "id": "020fec13-8d51-4a7b-b76b-973c755ebff9",
   "metadata": {},
   "outputs": [],
   "source": []
  },
  {
   "cell_type": "markdown",
   "id": "e69cc81a-04f1-4269-821b-81138764b0aa",
   "metadata": {},
   "source": [
    "Q.2)Create a program that takes a sentence from the user and counts the\n",
    "number of vowels (a, e, i, o, u) in the string.\n"
   ]
  },
  {
   "cell_type": "code",
   "execution_count": 15,
   "id": "ea1a6855-6284-44a4-abe3-97ccf3f4c77c",
   "metadata": {},
   "outputs": [
    {
     "name": "stdin",
     "output_type": "stream",
     "text": [
      "Enter a string Ashish\n"
     ]
    },
    {
     "name": "stdout",
     "output_type": "stream",
     "text": [
      "Number of vowels in the string is 2\n"
     ]
    }
   ],
   "source": [
    "s2 = input(\"Enter a string\")\n",
    "vowel_count = 0\n",
    "for i in s2 :\n",
    "    if i in \"AEIOUaeiou\" :\n",
    "        vowel_count += 1\n",
    "print(\"Number of vowels in the string is\", vowel_count)"
   ]
  },
  {
   "cell_type": "code",
   "execution_count": 10,
   "id": "680c679a-0afe-4707-81ec-47c6602e7893",
   "metadata": {},
   "outputs": [],
   "source": [
    "#Please run the above code and put any string to count the number of vowels in the string"
   ]
  },
  {
   "cell_type": "code",
   "execution_count": null,
   "id": "4a0453aa-2ae6-42bc-9a53-a61826c140b2",
   "metadata": {},
   "outputs": [],
   "source": []
  },
  {
   "cell_type": "markdown",
   "id": "92878023-2f8f-47ca-9c89-5f71ed03d90c",
   "metadata": {},
   "source": [
    "Q.3)Given a string, reverse the order of characters using string slicing and print\n",
    "the reversed string."
   ]
  },
  {
   "cell_type": "code",
   "execution_count": 16,
   "id": "985e3430-2c25-4a0b-a97a-c4da4096760a",
   "metadata": {},
   "outputs": [
    {
     "name": "stdout",
     "output_type": "stream",
     "text": [
      "sllikswP\n"
     ]
    }
   ],
   "source": [
    "s3 = \"Pwskills\"\n",
    "print(s3[::-1])"
   ]
  },
  {
   "cell_type": "code",
   "execution_count": null,
   "id": "628cdc84-5f4a-4739-903f-9f7925bacaf6",
   "metadata": {},
   "outputs": [],
   "source": []
  },
  {
   "cell_type": "markdown",
   "id": "00504dff-0c7e-44b7-9564-e9a5fb18f733",
   "metadata": {},
   "source": [
    "Q.4)Write a program that takes a string as input and checks if it is a palindrome\n",
    "(reads the same forwards and backwards)."
   ]
  },
  {
   "cell_type": "code",
   "execution_count": 22,
   "id": "57f05610-0a32-4f46-a5b9-81f07614ed81",
   "metadata": {},
   "outputs": [
    {
     "name": "stdin",
     "output_type": "stream",
     "text": [
      "Enter a string MADAM\n"
     ]
    },
    {
     "name": "stdout",
     "output_type": "stream",
     "text": [
      "Entered string is a palindrome\n"
     ]
    }
   ],
   "source": [
    "s4 = input(\"Enter a string\")\n",
    "s4_lower = s4.lower()\n",
    "if s4_lower == s4_lower[::-1] :\n",
    "    print(\"Entered string is a palindrome\")\n",
    "else :\n",
    "    print(\"Entered string is not a palindrome\")"
   ]
  },
  {
   "cell_type": "code",
   "execution_count": 23,
   "id": "5180f7cd-fb81-4a2c-b122-58c361a34ee0",
   "metadata": {},
   "outputs": [],
   "source": [
    "#Please run the above code and put any string to check if the string is a palindrome"
   ]
  },
  {
   "cell_type": "code",
   "execution_count": null,
   "id": "6ce83738-3f2d-4b4e-bda0-e348c4256aa3",
   "metadata": {},
   "outputs": [],
   "source": []
  },
  {
   "cell_type": "markdown",
   "id": "aec00d5e-0ca6-4b6c-999f-c3608e9ad521",
   "metadata": {},
   "source": [
    "Q.5)Create a program that takes a string as input and removes all the spaces from\n",
    "it. Print the modified string without spaces."
   ]
  },
  {
   "cell_type": "code",
   "execution_count": 25,
   "id": "d9101c52-6b23-47d8-8c7d-f9b204e395e1",
   "metadata": {},
   "outputs": [
    {
     "name": "stdin",
     "output_type": "stream",
     "text": [
      "Enter a string My name is Ashish Thapa\n"
     ]
    },
    {
     "name": "stdout",
     "output_type": "stream",
     "text": [
      "MynameisAshishThapa\n"
     ]
    }
   ],
   "source": [
    "s5 = input(\"Enter a string\")\n",
    "result_string = s5.replace(\" \", \"\")\n",
    "print(result_string)"
   ]
  },
  {
   "cell_type": "code",
   "execution_count": 26,
   "id": "0558897c-d0a6-4d28-b31d-fa59538b5581",
   "metadata": {},
   "outputs": [],
   "source": [
    "#Please run the above code and put any string to print the modified string without any spaces"
   ]
  },
  {
   "cell_type": "code",
   "execution_count": null,
   "id": "5bb75374-0035-4ac2-b46e-73e33ea53936",
   "metadata": {},
   "outputs": [],
   "source": []
  }
 ],
 "metadata": {
  "kernelspec": {
   "display_name": "Python 3 (ipykernel)",
   "language": "python",
   "name": "python3"
  },
  "language_info": {
   "codemirror_mode": {
    "name": "ipython",
    "version": 3
   },
   "file_extension": ".py",
   "mimetype": "text/x-python",
   "name": "python",
   "nbconvert_exporter": "python",
   "pygments_lexer": "ipython3",
   "version": "3.10.8"
  }
 },
 "nbformat": 4,
 "nbformat_minor": 5
}
